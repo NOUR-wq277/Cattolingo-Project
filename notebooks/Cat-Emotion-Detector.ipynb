{
 "cells": [
  {
   "cell_type": "markdown",
   "id": "85fe081b",
   "metadata": {},
   "source": [
    "# Cat Emotion Detection using Transfer Learning (ResNet-50)\n",
    "\n",
    "**Author:** [Abdalrhman Badawi , Ziad Sakr]\n",
    "\n",
    "---\n",
    "\n",
    "##  Project Overview and Objective\n",
    "\n",
    "This notebook documents the complete machine learning pipeline for the Cat Emotion Detection project. The goal of this project is to accurately classify a cat's emotional state from an image using a deep learning model, specifically leveraging the power of Transfer Learning with a pre-trained ResNet-50 architecture. The entire experiment, including parameters, metrics, and the best model, is tracked using MLflow for robust MLOps practices."
   ]
  },
  {
   "cell_type": "markdown",
   "id": "d57ba533",
   "metadata": {},
   "source": [
    "## 1. Setup and Configuration\n",
    "**We start by importing necessary libraries and defining the global configuration and device settings.**"
   ]
  },
  {
   "cell_type": "code",
   "execution_count": 1,
   "id": "3b94d04f",
   "metadata": {},
   "outputs": [
    {
     "name": "stdout",
     "output_type": "stream",
     "text": [
      "Using device: cuda\n"
     ]
    }
   ],
   "source": [
    "# Core Libraries\n",
    "import torch\n",
    "import torch.nn as nn\n",
    "import torch.optim as optim\n",
    "from torchvision import datasets, transforms, models\n",
    "from torch.utils.data import DataLoader\n",
    "\n",
    "# Utilities\n",
    "import os\n",
    "import numpy as np\n",
    "import matplotlib.pyplot as plt\n",
    "import seaborn as sns\n",
    "from tqdm import tqdm\n",
    "from sklearn.metrics import classification_report, confusion_matrix\n",
    "from sklearn.utils.class_weight import compute_class_weight\n",
    "\n",
    "# MLOps Tracking\n",
    "import mlflow\n",
    "import mlflow.pytorch\n",
    "from torchvision.models import ResNet50_Weights\n",
    "\n",
    "# Set the device for training (GPU preferred)\n",
    "DEVICE = torch.device(\"cuda\" if torch.cuda.is_available() else \"cpu\")\n",
    "print(f\"Using device: {DEVICE}\")\n",
    "\n",
    "# --- Configuration Dictionary ---\n",
    "# Define all hyperparameters in a single, easy-to-manage dictionary.\n",
    "DATA_DIR = r\"D:\\Abdalrhman\\Cat-Emotion-Detector\\Catto-Lingo\\final_data\" # Placeholder: Update to your actual data path\n",
    "CONFIG = {\n",
    "    \"BATCH_SIZE\": 16,\n",
    "    \"NUM_EPOCHS\": 30,\n",
    "    \"IMG_SIZE\": 224, # Standard input size for ResNet models\n",
    "    \"LR\": 0.0001,\n",
    "    \"NUM_WORKERS\": 4, # Number of subprocesses to use for data loading\n",
    "}"
   ]
  },
  {
   "cell_type": "markdown",
   "id": "92764e52",
   "metadata": {},
   "source": [
    "### 2. Data Preprocessing and Augmentation\n",
    "A crucial step in image classification is preparing the data. We define two sets of transforms: one for training (including data augmentation) and one for validation/testing.\n",
    "\n",
    "**2.1. Define Image Transforms**"
   ]
  },
  {
   "cell_type": "code",
   "execution_count": 2,
   "id": "a715a2c1",
   "metadata": {},
   "outputs": [],
   "source": [
    "def get_transforms(img_size=224):\n",
    "    \"\"\"Defines the transformation pipelines for training and validation/testing data.\"\"\"\n",
    "    # Training transforms include aggressive data augmentation to improve generalization\n",
    "    train_transforms = transforms.Compose([\n",
    "        # Randomly crop and resize the image to the target size\n",
    "        transforms.RandomResizedCrop(img_size),\n",
    "        # Flips the image horizontally with 50% probability\n",
    "        transforms.RandomHorizontalFlip(),\n",
    "        # Randomly changes the brightness, contrast, saturation, and hue\n",
    "        transforms.ColorJitter(brightness=0.2, contrast=0.2, saturation=0.2, hue=0.1),\n",
    "        # Rotates the image by up to 15 degrees\n",
    "        transforms.RandomRotation(15),\n",
    "        # Converts the image to a PyTorch Tensor\n",
    "        transforms.ToTensor(),\n",
    "        # Normalizes the image using ImageNet's mean and standard deviation\n",
    "        transforms.Normalize([0.485, 0.456, 0.406], [0.229, 0.224, 0.225])\n",
    "    ])\n",
    "\n",
    "    # Validation and Test transforms only resize and normalize (no augmentation)\n",
    "    val_test_transforms = transforms.Compose([\n",
    "        transforms.Resize((img_size, img_size)), # Resize to target size\n",
    "        transforms.ToTensor(),\n",
    "        transforms.Normalize([0.485, 0.456, 0.406], [0.229, 0.224, 0.225])\n",
    "    ])\n",
    "    return train_transforms, val_test_transforms"
   ]
  },
  {
   "cell_type": "markdown",
   "id": "c73f54ed",
   "metadata": {},
   "source": [
    "### 2.2. Load Data\n",
    "We load the datasets from the specified directory structure (assuming train/, val/, and test/ subfolders) and create PyTorch DataLoaders."
   ]
  },
  {
   "cell_type": "code",
   "execution_count": 3,
   "id": "d52c9406",
   "metadata": {},
   "outputs": [
    {
     "name": "stdout",
     "output_type": "stream",
     "text": [
      "Number of training samples: 4758\n",
      "Number of validation samples: 1973\n",
      "Number of test samples: 1046\n",
      "Classes: ['angry', 'disgusted', 'happy', 'normal', 'relaxed', 'sad', 'scared', 'surprised', 'uncomfortable']\n"
     ]
    }
   ],
   "source": [
    "def load_data(data_dir, batch_size=16, num_workers=4, img_size=224):\n",
    "    \"\"\"Loads datasets and creates DataLoaders for train, validation, and test splits.\"\"\"\n",
    "    train_transforms, val_test_transforms = get_transforms(img_size)\n",
    "\n",
    "    # Use ImageFolder to automatically load images and assign labels based on folder names\n",
    "    train_dataset = datasets.ImageFolder(os.path.join(data_dir, \"train\"), transform=train_transforms)\n",
    "    val_dataset = datasets.ImageFolder(os.path.join(data_dir, \"val\"), transform=val_test_transforms)\n",
    "    test_dataset = datasets.ImageFolder(os.path.join(data_dir, \"test\"), transform=val_test_transforms)\n",
    "\n",
    "    # Create DataLoaders\n",
    "    train_loader = DataLoader(train_dataset, batch_size=batch_size, shuffle=True, num_workers=num_workers)\n",
    "    val_loader = DataLoader(val_dataset, batch_size=batch_size, shuffle=False, num_workers=num_workers)\n",
    "    test_loader = DataLoader(test_dataset, batch_size=batch_size, shuffle=False, num_workers=num_workers)\n",
    "\n",
    "    return train_loader, val_loader, test_loader, train_dataset, val_dataset, test_dataset, train_dataset.classes\n",
    "\n",
    "# Execute data loading\n",
    "train_loader, val_loader, test_loader, train_dataset, val_dataset, test_dataset, classes = load_data(\n",
    "    DATA_DIR, CONFIG[\"BATCH_SIZE\"], CONFIG[\"NUM_WORKERS\"], CONFIG[\"IMG_SIZE\"]\n",
    ")\n",
    "print(f\"Number of training samples: {len(train_dataset)}\")\n",
    "print(f\"Number of validation samples: {len(val_dataset)}\")\n",
    "print(f\"Number of test samples: {len(test_dataset)}\")\n",
    "print(f\"Classes: {classes}\")"
   ]
  },
  {
   "cell_type": "markdown",
   "id": "4f76a598",
   "metadata": {},
   "source": [
    "# 3. Model Definition and Setup\n",
    "We implement the core component: the ResNet-50 model configured for transfer learning, along with a strategy to handle class imbalance.\n",
    "\n",
    "### 3.1. Build ResNet-50 Model\n",
    "We use the ResNet-50 architecture pre-trained on ImageNet. The final classification layer is replaced to match the number of emotion classes in our dataset."
   ]
  },
  {
   "cell_type": "code",
   "execution_count": 4,
   "id": "191e6722",
   "metadata": {},
   "outputs": [],
   "source": [
    "def build_resnet50(num_classes):\n",
    "    \"\"\"Initializes a ResNet-50 model with pre-trained weights and modifies the final layer.\"\"\"\n",
    "    # Load ResNet-50 with default (best available) pre-trained weights\n",
    "    model = models.resnet50(weights=ResNet50_Weights.DEFAULT)\n",
    "    \n",
    "    # Freeze all layers if necessary (often done initially, but left unfrozen here for fine-tuning)\n",
    "    # for param in model.parameters():\n",
    "    #     param.requires_grad = False\n",
    "    \n",
    "    # Get the number of input features for the final fully connected layer (fc)\n",
    "    num_features = model.fc.in_features\n",
    "    \n",
    "    # Replace the existing fc layer with a new one for our specific number of classes\n",
    "    model.fc = nn.Linear(num_features, num_classes)\n",
    "    return model"
   ]
  },
  {
   "cell_type": "markdown",
   "id": "c4430d5c",
   "metadata": {},
   "source": [
    "### 3.2. Calculate Class Weights\n",
    "To mitigate the impact of potential class imbalance in the dataset, we calculate balanced class weights. These weights will be passed to the CrossEntropyLoss criterion."
   ]
  },
  {
   "cell_type": "code",
   "execution_count": 5,
   "id": "4e1ee84b",
   "metadata": {},
   "outputs": [
    {
     "name": "stdout",
     "output_type": "stream",
     "text": [
      "Calculated Class Weights: [1.519157  1.9580247 1.5323671 1.2957517 0.5913497 1.3875766 1.7563677\n",
      " 1.6624738 0.3540969]\n"
     ]
    }
   ],
   "source": [
    "def get_class_weights(train_dataset, device):\n",
    "    \"\"\"Calculates balanced class weights from the training dataset labels.\"\"\"\n",
    "    # Extract all labels from the training dataset samples\n",
    "    y_train = [s[1] for s in train_dataset.samples]\n",
    "    # Compute 'balanced' weights: n_samples / (n_classes * n_samples_in_class)\n",
    "    class_weights = compute_class_weight(\"balanced\", classes=np.unique(y_train), y=y_train)\n",
    "    # Convert to a PyTorch tensor and move to the target device\n",
    "    return torch.tensor(class_weights, dtype=torch.float).to(device)\n",
    "\n",
    "# Execute class weight calculation\n",
    "class_weights = get_class_weights(train_dataset, DEVICE)\n",
    "print(f\"Calculated Class Weights: {class_weights.cpu().numpy()}\")"
   ]
  },
  {
   "cell_type": "markdown",
   "id": "f5ca26a7",
   "metadata": {},
   "source": [
    "### 3.3. Initialize Model, Loss, and Optimizer"
   ]
  },
  {
   "cell_type": "code",
   "execution_count": 6,
   "id": "4488c2ae",
   "metadata": {},
   "outputs": [
    {
     "name": "stdout",
     "output_type": "stream",
     "text": [
      "Model initialized: ResNet-50 with 9 output classes.\n"
     ]
    }
   ],
   "source": [
    "# Initialize Model\n",
    "model = build_resnet50(len(classes)).to(DEVICE)\n",
    "\n",
    "# Define Loss Criterion (using weighted CrossEntropyLoss for imbalance)\n",
    "criterion = torch.nn.CrossEntropyLoss(weight=class_weights)\n",
    "\n",
    "# Define Optimizer (Adam is a robust choice for deep learning)\n",
    "optimizer = torch.optim.Adam(model.parameters(), lr=CONFIG[\"LR\"])\n",
    "\n",
    "print(f\"Model initialized: ResNet-50 with {len(classes)} output classes.\")"
   ]
  },
  {
   "cell_type": "markdown",
   "id": "5d326984",
   "metadata": {},
   "source": [
    "# 4. Training and Validation Loop\n",
    "We implement the main training and validation function, integrating MLflow for experiment tracking. This allows us to log performance metrics, parameters, and the best model version."
   ]
  },
  {
   "cell_type": "code",
   "execution_count": 7,
   "id": "1fbbd204",
   "metadata": {},
   "outputs": [],
   "source": [
    "def train_and_validate(model, criterion, optimizer, train_loader, val_loader, train_dataset, val_dataset, device, num_epochs):\n",
    "    \"\"\"\n",
    "    Executes the training and validation loop, logging metrics and saving the best model via MLflow.\n",
    "    \"\"\"\n",
    "    best_val_acc = 0.0\n",
    "\n",
    "    for epoch in range(num_epochs):\n",
    "        # ----------------- Training Phase -----------------\n",
    "        model.train() # Set model to training mode\n",
    "        running_loss, running_corrects = 0.0, 0\n",
    "\n",
    "        for inputs, labels in tqdm(train_loader, desc=f\"Epoch {epoch+1}/{num_epochs} [Training]\"):\n",
    "            inputs, labels = inputs.to(device), labels.to(device)\n",
    "            optimizer.zero_grad() # Zero the parameter gradients\n",
    "\n",
    "            outputs = model(inputs)\n",
    "            loss = criterion(outputs, labels)\n",
    "            \n",
    "            # Backpropagation\n",
    "            loss.backward()\n",
    "            optimizer.step()\n",
    "\n",
    "            # Metric tracking\n",
    "            running_loss += loss.item() * inputs.size(0)\n",
    "            running_corrects += torch.sum(outputs.argmax(1) == labels.data)\n",
    "\n",
    "        # Calculate epoch metrics\n",
    "        epoch_loss = running_loss / len(train_dataset)\n",
    "        epoch_acc = running_corrects.double() / len(train_dataset)\n",
    "\n",
    "        # ----------------- Validation Phase -----------------\n",
    "        model.eval() # Set model to evaluation mode\n",
    "        val_loss, val_corrects = 0.0, 0\n",
    "        with torch.no_grad(): # Disable gradient calculations during validation\n",
    "            for inputs, labels in tqdm(val_loader, desc=f\"Epoch {epoch+1}/{num_epochs} [Validation]\"):\n",
    "                inputs, labels = inputs.to(device), labels.to(device)\n",
    "                outputs = model(inputs)\n",
    "                loss = criterion(outputs, labels)\n",
    "\n",
    "                # Metric tracking\n",
    "                val_loss += loss.item() * inputs.size(0)\n",
    "                val_corrects += torch.sum(outputs.argmax(1) == labels.data)\n",
    "\n",
    "        val_loss /= len(val_dataset)\n",
    "        val_acc = val_corrects.double() / len(val_dataset)\n",
    "\n",
    "        # Print Epoch Summary\n",
    "        print(f\"Epoch {epoch+1}/{num_epochs} | Train Acc: {epoch_acc:.4f}, Val Acc: {val_acc:.4f}\")\n",
    "\n",
    "        # MLflow logging\n",
    "        mlflow.log_metric(\"train_loss\", epoch_loss, step=epoch)\n",
    "        mlflow.log_metric(\"train_acc\", epoch_acc.item(), step=epoch)\n",
    "        mlflow.log_metric(\"val_loss\", val_loss, step=epoch)\n",
    "        mlflow.log_metric(\"val_acc\", val_acc.item(), step=epoch)\n",
    "\n",
    "        # Save the best model based on validation accuracy\n",
    "        if val_acc > best_val_acc:\n",
    "            best_val_acc = val_acc\n",
    "            # Log the PyTorch model to MLflow (creates a 'best_model' artifact)\n",
    "            mlflow.pytorch.log_model(model, \"best_model\")\n",
    "            print(f\"✔ New best model saved with val acc = {best_val_acc:.4f}\")\n",
    "\n",
    "    return best_val_acc"
   ]
  },
  {
   "cell_type": "markdown",
   "id": "5f8ef641",
   "metadata": {},
   "source": [
    "# 5. Experiment Execution (MLflow Run)\n",
    "We wrap the training and testing process within an MLflow run to ensure all components of the experiment are tracked and reproducible."
   ]
  },
  {
   "cell_type": "code",
   "execution_count": 8,
   "id": "df2a6661",
   "metadata": {},
   "outputs": [
    {
     "name": "stdout",
     "output_type": "stream",
     "text": [
      "--- Starting Training and Validation ---\n"
     ]
    },
    {
     "name": "stderr",
     "output_type": "stream",
     "text": [
      "Epoch 1/30 [Training]: 100%|██████████| 298/298 [01:08<00:00,  4.37it/s]\n",
      "Epoch 1/30 [Validation]: 100%|██████████| 124/124 [00:24<00:00,  5.14it/s]\n",
      "2025/10/05 01:43:02 WARNING mlflow.models.model: `artifact_path` is deprecated. Please use `name` instead.\n"
     ]
    },
    {
     "name": "stdout",
     "output_type": "stream",
     "text": [
      "Epoch 1/30 | Train Acc: 0.4330, Val Acc: 0.6503\n"
     ]
    },
    {
     "name": "stderr",
     "output_type": "stream",
     "text": [
      "2025/10/05 01:43:02 WARNING mlflow.utils.requirements_utils: Found torch version (2.5.1+cu121) contains a local version label (+cu121). MLflow logged a pip requirement for this package as 'torch==2.5.1' without the local version label to make it installable from PyPI. To specify pip requirements containing local version labels, please use `conda_env` or `pip_requirements`.\n",
      "2025/10/05 01:43:15 WARNING mlflow.utils.requirements_utils: Found torchvision version (0.20.1+cu121) contains a local version label (+cu121). MLflow logged a pip requirement for this package as 'torchvision==0.20.1' without the local version label to make it installable from PyPI. To specify pip requirements containing local version labels, please use `conda_env` or `pip_requirements`.\n",
      "2025/10/05 01:43:15 WARNING mlflow.models.model: Model logged without a signature and input example. Please set `input_example` parameter when logging the model to auto infer the model signature.\n"
     ]
    },
    {
     "name": "stdout",
     "output_type": "stream",
     "text": [
      "✔ New best model saved with val acc = 0.6503\n"
     ]
    },
    {
     "name": "stderr",
     "output_type": "stream",
     "text": [
      "Epoch 2/30 [Training]: 100%|██████████| 298/298 [01:08<00:00,  4.36it/s]\n",
      "Epoch 2/30 [Validation]: 100%|██████████| 124/124 [00:22<00:00,  5.44it/s]\n",
      "2025/10/05 01:44:47 WARNING mlflow.models.model: `artifact_path` is deprecated. Please use `name` instead.\n"
     ]
    },
    {
     "name": "stdout",
     "output_type": "stream",
     "text": [
      "Epoch 2/30 | Train Acc: 0.6015, Val Acc: 0.6873\n"
     ]
    },
    {
     "name": "stderr",
     "output_type": "stream",
     "text": [
      "2025/10/05 01:44:47 WARNING mlflow.utils.requirements_utils: Found torch version (2.5.1+cu121) contains a local version label (+cu121). MLflow logged a pip requirement for this package as 'torch==2.5.1' without the local version label to make it installable from PyPI. To specify pip requirements containing local version labels, please use `conda_env` or `pip_requirements`.\n",
      "2025/10/05 01:44:54 WARNING mlflow.utils.requirements_utils: Found torchvision version (0.20.1+cu121) contains a local version label (+cu121). MLflow logged a pip requirement for this package as 'torchvision==0.20.1' without the local version label to make it installable from PyPI. To specify pip requirements containing local version labels, please use `conda_env` or `pip_requirements`.\n",
      "2025/10/05 01:44:54 WARNING mlflow.models.model: Model logged without a signature and input example. Please set `input_example` parameter when logging the model to auto infer the model signature.\n"
     ]
    },
    {
     "name": "stdout",
     "output_type": "stream",
     "text": [
      "✔ New best model saved with val acc = 0.6873\n"
     ]
    },
    {
     "name": "stderr",
     "output_type": "stream",
     "text": [
      "Epoch 3/30 [Training]: 100%|██████████| 298/298 [01:06<00:00,  4.46it/s]\n",
      "Epoch 3/30 [Validation]: 100%|██████████| 124/124 [00:22<00:00,  5.44it/s]\n",
      "2025/10/05 01:46:24 WARNING mlflow.models.model: `artifact_path` is deprecated. Please use `name` instead.\n"
     ]
    },
    {
     "name": "stdout",
     "output_type": "stream",
     "text": [
      "Epoch 3/30 | Train Acc: 0.6631, Val Acc: 0.7770\n"
     ]
    },
    {
     "name": "stderr",
     "output_type": "stream",
     "text": [
      "2025/10/05 01:46:24 WARNING mlflow.utils.requirements_utils: Found torch version (2.5.1+cu121) contains a local version label (+cu121). MLflow logged a pip requirement for this package as 'torch==2.5.1' without the local version label to make it installable from PyPI. To specify pip requirements containing local version labels, please use `conda_env` or `pip_requirements`.\n",
      "2025/10/05 01:46:31 WARNING mlflow.utils.requirements_utils: Found torchvision version (0.20.1+cu121) contains a local version label (+cu121). MLflow logged a pip requirement for this package as 'torchvision==0.20.1' without the local version label to make it installable from PyPI. To specify pip requirements containing local version labels, please use `conda_env` or `pip_requirements`.\n",
      "2025/10/05 01:46:31 WARNING mlflow.models.model: Model logged without a signature and input example. Please set `input_example` parameter when logging the model to auto infer the model signature.\n"
     ]
    },
    {
     "name": "stdout",
     "output_type": "stream",
     "text": [
      "✔ New best model saved with val acc = 0.7770\n"
     ]
    },
    {
     "name": "stderr",
     "output_type": "stream",
     "text": [
      "Epoch 4/30 [Training]: 100%|██████████| 298/298 [01:06<00:00,  4.46it/s]\n",
      "Epoch 4/30 [Validation]: 100%|██████████| 124/124 [00:23<00:00,  5.38it/s]\n"
     ]
    },
    {
     "name": "stdout",
     "output_type": "stream",
     "text": [
      "Epoch 4/30 | Train Acc: 0.7041, Val Acc: 0.7729\n"
     ]
    },
    {
     "name": "stderr",
     "output_type": "stream",
     "text": [
      "Epoch 5/30 [Training]: 100%|██████████| 298/298 [01:07<00:00,  4.44it/s]\n",
      "Epoch 5/30 [Validation]: 100%|██████████| 124/124 [00:22<00:00,  5.45it/s]\n",
      "2025/10/05 01:49:32 WARNING mlflow.models.model: `artifact_path` is deprecated. Please use `name` instead.\n"
     ]
    },
    {
     "name": "stdout",
     "output_type": "stream",
     "text": [
      "Epoch 5/30 | Train Acc: 0.7257, Val Acc: 0.7897\n"
     ]
    },
    {
     "name": "stderr",
     "output_type": "stream",
     "text": [
      "2025/10/05 01:49:32 WARNING mlflow.utils.requirements_utils: Found torch version (2.5.1+cu121) contains a local version label (+cu121). MLflow logged a pip requirement for this package as 'torch==2.5.1' without the local version label to make it installable from PyPI. To specify pip requirements containing local version labels, please use `conda_env` or `pip_requirements`.\n",
      "2025/10/05 01:49:39 WARNING mlflow.utils.requirements_utils: Found torchvision version (0.20.1+cu121) contains a local version label (+cu121). MLflow logged a pip requirement for this package as 'torchvision==0.20.1' without the local version label to make it installable from PyPI. To specify pip requirements containing local version labels, please use `conda_env` or `pip_requirements`.\n",
      "2025/10/05 01:49:39 WARNING mlflow.models.model: Model logged without a signature and input example. Please set `input_example` parameter when logging the model to auto infer the model signature.\n"
     ]
    },
    {
     "name": "stdout",
     "output_type": "stream",
     "text": [
      "✔ New best model saved with val acc = 0.7897\n"
     ]
    },
    {
     "name": "stderr",
     "output_type": "stream",
     "text": [
      "Epoch 6/30 [Training]: 100%|██████████| 298/298 [01:06<00:00,  4.46it/s]\n",
      "Epoch 6/30 [Validation]: 100%|██████████| 124/124 [00:23<00:00,  5.31it/s]\n",
      "2025/10/05 01:51:10 WARNING mlflow.models.model: `artifact_path` is deprecated. Please use `name` instead.\n"
     ]
    },
    {
     "name": "stdout",
     "output_type": "stream",
     "text": [
      "Epoch 6/30 | Train Acc: 0.7480, Val Acc: 0.8297\n"
     ]
    },
    {
     "name": "stderr",
     "output_type": "stream",
     "text": [
      "2025/10/05 01:51:10 WARNING mlflow.utils.requirements_utils: Found torch version (2.5.1+cu121) contains a local version label (+cu121). MLflow logged a pip requirement for this package as 'torch==2.5.1' without the local version label to make it installable from PyPI. To specify pip requirements containing local version labels, please use `conda_env` or `pip_requirements`.\n",
      "2025/10/05 01:51:17 WARNING mlflow.utils.requirements_utils: Found torchvision version (0.20.1+cu121) contains a local version label (+cu121). MLflow logged a pip requirement for this package as 'torchvision==0.20.1' without the local version label to make it installable from PyPI. To specify pip requirements containing local version labels, please use `conda_env` or `pip_requirements`.\n",
      "2025/10/05 01:51:17 WARNING mlflow.models.model: Model logged without a signature and input example. Please set `input_example` parameter when logging the model to auto infer the model signature.\n"
     ]
    },
    {
     "name": "stdout",
     "output_type": "stream",
     "text": [
      "✔ New best model saved with val acc = 0.8297\n"
     ]
    },
    {
     "name": "stderr",
     "output_type": "stream",
     "text": [
      "Epoch 7/30 [Training]: 100%|██████████| 298/298 [01:07<00:00,  4.38it/s]\n",
      "Epoch 7/30 [Validation]: 100%|██████████| 124/124 [00:22<00:00,  5.44it/s]\n",
      "2025/10/05 01:52:48 WARNING mlflow.models.model: `artifact_path` is deprecated. Please use `name` instead.\n"
     ]
    },
    {
     "name": "stdout",
     "output_type": "stream",
     "text": [
      "Epoch 7/30 | Train Acc: 0.7715, Val Acc: 0.8363\n"
     ]
    },
    {
     "name": "stderr",
     "output_type": "stream",
     "text": [
      "2025/10/05 01:52:49 WARNING mlflow.utils.requirements_utils: Found torch version (2.5.1+cu121) contains a local version label (+cu121). MLflow logged a pip requirement for this package as 'torch==2.5.1' without the local version label to make it installable from PyPI. To specify pip requirements containing local version labels, please use `conda_env` or `pip_requirements`.\n",
      "2025/10/05 01:52:56 WARNING mlflow.utils.requirements_utils: Found torchvision version (0.20.1+cu121) contains a local version label (+cu121). MLflow logged a pip requirement for this package as 'torchvision==0.20.1' without the local version label to make it installable from PyPI. To specify pip requirements containing local version labels, please use `conda_env` or `pip_requirements`.\n",
      "2025/10/05 01:52:56 WARNING mlflow.models.model: Model logged without a signature and input example. Please set `input_example` parameter when logging the model to auto infer the model signature.\n"
     ]
    },
    {
     "name": "stdout",
     "output_type": "stream",
     "text": [
      "✔ New best model saved with val acc = 0.8363\n"
     ]
    },
    {
     "name": "stderr",
     "output_type": "stream",
     "text": [
      "Epoch 8/30 [Training]: 100%|██████████| 298/298 [01:06<00:00,  4.46it/s]\n",
      "Epoch 8/30 [Validation]: 100%|██████████| 124/124 [00:22<00:00,  5.41it/s]\n"
     ]
    },
    {
     "name": "stdout",
     "output_type": "stream",
     "text": [
      "Epoch 8/30 | Train Acc: 0.7736, Val Acc: 0.8322\n"
     ]
    },
    {
     "name": "stderr",
     "output_type": "stream",
     "text": [
      "Epoch 9/30 [Training]: 100%|██████████| 298/298 [01:06<00:00,  4.45it/s]\n",
      "Epoch 9/30 [Validation]: 100%|██████████| 124/124 [00:22<00:00,  5.44it/s]\n",
      "2025/10/05 01:55:56 WARNING mlflow.models.model: `artifact_path` is deprecated. Please use `name` instead.\n"
     ]
    },
    {
     "name": "stdout",
     "output_type": "stream",
     "text": [
      "Epoch 9/30 | Train Acc: 0.8047, Val Acc: 0.8606\n"
     ]
    },
    {
     "name": "stderr",
     "output_type": "stream",
     "text": [
      "2025/10/05 01:55:57 WARNING mlflow.utils.requirements_utils: Found torch version (2.5.1+cu121) contains a local version label (+cu121). MLflow logged a pip requirement for this package as 'torch==2.5.1' without the local version label to make it installable from PyPI. To specify pip requirements containing local version labels, please use `conda_env` or `pip_requirements`.\n",
      "2025/10/05 01:56:04 WARNING mlflow.utils.requirements_utils: Found torchvision version (0.20.1+cu121) contains a local version label (+cu121). MLflow logged a pip requirement for this package as 'torchvision==0.20.1' without the local version label to make it installable from PyPI. To specify pip requirements containing local version labels, please use `conda_env` or `pip_requirements`.\n",
      "2025/10/05 01:56:04 WARNING mlflow.models.model: Model logged without a signature and input example. Please set `input_example` parameter when logging the model to auto infer the model signature.\n"
     ]
    },
    {
     "name": "stdout",
     "output_type": "stream",
     "text": [
      "✔ New best model saved with val acc = 0.8606\n"
     ]
    },
    {
     "name": "stderr",
     "output_type": "stream",
     "text": [
      "Epoch 10/30 [Training]: 100%|██████████| 298/298 [01:06<00:00,  4.47it/s]\n",
      "Epoch 10/30 [Validation]: 100%|██████████| 124/124 [00:22<00:00,  5.39it/s]\n"
     ]
    },
    {
     "name": "stdout",
     "output_type": "stream",
     "text": [
      "Epoch 10/30 | Train Acc: 0.7938, Val Acc: 0.8246\n"
     ]
    },
    {
     "name": "stderr",
     "output_type": "stream",
     "text": [
      "Epoch 11/30 [Training]: 100%|██████████| 298/298 [01:06<00:00,  4.46it/s]\n",
      "Epoch 11/30 [Validation]: 100%|██████████| 124/124 [00:22<00:00,  5.45it/s]\n",
      "2025/10/05 01:59:04 WARNING mlflow.models.model: `artifact_path` is deprecated. Please use `name` instead.\n"
     ]
    },
    {
     "name": "stdout",
     "output_type": "stream",
     "text": [
      "Epoch 11/30 | Train Acc: 0.8083, Val Acc: 0.8621\n"
     ]
    },
    {
     "name": "stderr",
     "output_type": "stream",
     "text": [
      "2025/10/05 01:59:05 WARNING mlflow.utils.requirements_utils: Found torch version (2.5.1+cu121) contains a local version label (+cu121). MLflow logged a pip requirement for this package as 'torch==2.5.1' without the local version label to make it installable from PyPI. To specify pip requirements containing local version labels, please use `conda_env` or `pip_requirements`.\n",
      "2025/10/05 01:59:12 WARNING mlflow.utils.requirements_utils: Found torchvision version (0.20.1+cu121) contains a local version label (+cu121). MLflow logged a pip requirement for this package as 'torchvision==0.20.1' without the local version label to make it installable from PyPI. To specify pip requirements containing local version labels, please use `conda_env` or `pip_requirements`.\n",
      "2025/10/05 01:59:13 WARNING mlflow.models.model: Model logged without a signature and input example. Please set `input_example` parameter when logging the model to auto infer the model signature.\n"
     ]
    },
    {
     "name": "stdout",
     "output_type": "stream",
     "text": [
      "✔ New best model saved with val acc = 0.8621\n"
     ]
    },
    {
     "name": "stderr",
     "output_type": "stream",
     "text": [
      "Epoch 12/30 [Training]: 100%|██████████| 298/298 [01:06<00:00,  4.46it/s]\n",
      "Epoch 12/30 [Validation]: 100%|██████████| 124/124 [00:22<00:00,  5.41it/s]\n",
      "2025/10/05 02:00:43 WARNING mlflow.models.model: `artifact_path` is deprecated. Please use `name` instead.\n"
     ]
    },
    {
     "name": "stdout",
     "output_type": "stream",
     "text": [
      "Epoch 12/30 | Train Acc: 0.8092, Val Acc: 0.8626\n"
     ]
    },
    {
     "name": "stderr",
     "output_type": "stream",
     "text": [
      "2025/10/05 02:00:45 WARNING mlflow.utils.requirements_utils: Found torch version (2.5.1+cu121) contains a local version label (+cu121). MLflow logged a pip requirement for this package as 'torch==2.5.1' without the local version label to make it installable from PyPI. To specify pip requirements containing local version labels, please use `conda_env` or `pip_requirements`.\n",
      "2025/10/05 02:00:52 WARNING mlflow.utils.requirements_utils: Found torchvision version (0.20.1+cu121) contains a local version label (+cu121). MLflow logged a pip requirement for this package as 'torchvision==0.20.1' without the local version label to make it installable from PyPI. To specify pip requirements containing local version labels, please use `conda_env` or `pip_requirements`.\n",
      "2025/10/05 02:00:52 WARNING mlflow.models.model: Model logged without a signature and input example. Please set `input_example` parameter when logging the model to auto infer the model signature.\n"
     ]
    },
    {
     "name": "stdout",
     "output_type": "stream",
     "text": [
      "✔ New best model saved with val acc = 0.8626\n"
     ]
    },
    {
     "name": "stderr",
     "output_type": "stream",
     "text": [
      "Epoch 13/30 [Training]: 100%|██████████| 298/298 [01:06<00:00,  4.46it/s]\n",
      "Epoch 13/30 [Validation]: 100%|██████████| 124/124 [00:22<00:00,  5.41it/s]\n",
      "2025/10/05 02:02:22 WARNING mlflow.models.model: `artifact_path` is deprecated. Please use `name` instead.\n"
     ]
    },
    {
     "name": "stdout",
     "output_type": "stream",
     "text": [
      "Epoch 13/30 | Train Acc: 0.8241, Val Acc: 0.8779\n"
     ]
    },
    {
     "name": "stderr",
     "output_type": "stream",
     "text": [
      "2025/10/05 02:02:26 WARNING mlflow.utils.requirements_utils: Found torch version (2.5.1+cu121) contains a local version label (+cu121). MLflow logged a pip requirement for this package as 'torch==2.5.1' without the local version label to make it installable from PyPI. To specify pip requirements containing local version labels, please use `conda_env` or `pip_requirements`.\n",
      "2025/10/05 02:02:33 WARNING mlflow.utils.requirements_utils: Found torchvision version (0.20.1+cu121) contains a local version label (+cu121). MLflow logged a pip requirement for this package as 'torchvision==0.20.1' without the local version label to make it installable from PyPI. To specify pip requirements containing local version labels, please use `conda_env` or `pip_requirements`.\n",
      "2025/10/05 02:02:33 WARNING mlflow.models.model: Model logged without a signature and input example. Please set `input_example` parameter when logging the model to auto infer the model signature.\n"
     ]
    },
    {
     "name": "stdout",
     "output_type": "stream",
     "text": [
      "✔ New best model saved with val acc = 0.8779\n"
     ]
    },
    {
     "name": "stderr",
     "output_type": "stream",
     "text": [
      "Epoch 14/30 [Training]: 100%|██████████| 298/298 [01:07<00:00,  4.44it/s]\n",
      "Epoch 14/30 [Validation]: 100%|██████████| 124/124 [00:23<00:00,  5.36it/s]\n"
     ]
    },
    {
     "name": "stdout",
     "output_type": "stream",
     "text": [
      "Epoch 14/30 | Train Acc: 0.8327, Val Acc: 0.8652\n"
     ]
    },
    {
     "name": "stderr",
     "output_type": "stream",
     "text": [
      "Epoch 15/30 [Training]: 100%|██████████| 298/298 [01:07<00:00,  4.45it/s]\n",
      "Epoch 15/30 [Validation]: 100%|██████████| 124/124 [00:23<00:00,  5.19it/s]\n"
     ]
    },
    {
     "name": "stdout",
     "output_type": "stream",
     "text": [
      "Epoch 15/30 | Train Acc: 0.8321, Val Acc: 0.8738\n"
     ]
    },
    {
     "name": "stderr",
     "output_type": "stream",
     "text": [
      "Epoch 16/30 [Training]: 100%|██████████| 298/298 [01:07<00:00,  4.41it/s]\n",
      "Epoch 16/30 [Validation]: 100%|██████████| 124/124 [00:23<00:00,  5.33it/s]\n"
     ]
    },
    {
     "name": "stdout",
     "output_type": "stream",
     "text": [
      "Epoch 16/30 | Train Acc: 0.8420, Val Acc: 0.8713\n"
     ]
    },
    {
     "name": "stderr",
     "output_type": "stream",
     "text": [
      "Epoch 17/30 [Training]: 100%|██████████| 298/298 [01:07<00:00,  4.42it/s]\n",
      "Epoch 17/30 [Validation]: 100%|██████████| 124/124 [00:23<00:00,  5.34it/s]\n"
     ]
    },
    {
     "name": "stdout",
     "output_type": "stream",
     "text": [
      "Epoch 17/30 | Train Acc: 0.8550, Val Acc: 0.8809\n"
     ]
    },
    {
     "name": "stderr",
     "output_type": "stream",
     "text": [
      "2025/10/05 02:08:37 WARNING mlflow.models.model: `artifact_path` is deprecated. Please use `name` instead.\n",
      "2025/10/05 02:08:44 WARNING mlflow.utils.requirements_utils: Found torch version (2.5.1+cu121) contains a local version label (+cu121). MLflow logged a pip requirement for this package as 'torch==2.5.1' without the local version label to make it installable from PyPI. To specify pip requirements containing local version labels, please use `conda_env` or `pip_requirements`.\n",
      "2025/10/05 02:08:52 WARNING mlflow.utils.requirements_utils: Found torchvision version (0.20.1+cu121) contains a local version label (+cu121). MLflow logged a pip requirement for this package as 'torchvision==0.20.1' without the local version label to make it installable from PyPI. To specify pip requirements containing local version labels, please use `conda_env` or `pip_requirements`.\n",
      "2025/10/05 02:08:52 WARNING mlflow.models.model: Model logged without a signature and input example. Please set `input_example` parameter when logging the model to auto infer the model signature.\n"
     ]
    },
    {
     "name": "stdout",
     "output_type": "stream",
     "text": [
      "✔ New best model saved with val acc = 0.8809\n"
     ]
    },
    {
     "name": "stderr",
     "output_type": "stream",
     "text": [
      "Epoch 18/30 [Training]: 100%|██████████| 298/298 [01:07<00:00,  4.40it/s]\n",
      "Epoch 18/30 [Validation]: 100%|██████████| 124/124 [00:23<00:00,  5.33it/s]\n"
     ]
    },
    {
     "name": "stdout",
     "output_type": "stream",
     "text": [
      "Epoch 18/30 | Train Acc: 0.8506, Val Acc: 0.8768\n"
     ]
    },
    {
     "name": "stderr",
     "output_type": "stream",
     "text": [
      "Epoch 19/30 [Training]: 100%|██████████| 298/298 [01:07<00:00,  4.38it/s]\n",
      "Epoch 19/30 [Validation]: 100%|██████████| 124/124 [00:23<00:00,  5.32it/s]\n"
     ]
    },
    {
     "name": "stdout",
     "output_type": "stream",
     "text": [
      "Epoch 19/30 | Train Acc: 0.8537, Val Acc: 0.8870\n"
     ]
    },
    {
     "name": "stderr",
     "output_type": "stream",
     "text": [
      "2025/10/05 02:11:55 WARNING mlflow.models.model: `artifact_path` is deprecated. Please use `name` instead.\n",
      "2025/10/05 02:12:11 WARNING mlflow.utils.requirements_utils: Found torch version (2.5.1+cu121) contains a local version label (+cu121). MLflow logged a pip requirement for this package as 'torch==2.5.1' without the local version label to make it installable from PyPI. To specify pip requirements containing local version labels, please use `conda_env` or `pip_requirements`.\n",
      "2025/10/05 02:12:18 WARNING mlflow.utils.requirements_utils: Found torchvision version (0.20.1+cu121) contains a local version label (+cu121). MLflow logged a pip requirement for this package as 'torchvision==0.20.1' without the local version label to make it installable from PyPI. To specify pip requirements containing local version labels, please use `conda_env` or `pip_requirements`.\n",
      "2025/10/05 02:12:18 WARNING mlflow.models.model: Model logged without a signature and input example. Please set `input_example` parameter when logging the model to auto infer the model signature.\n"
     ]
    },
    {
     "name": "stdout",
     "output_type": "stream",
     "text": [
      "✔ New best model saved with val acc = 0.8870\n"
     ]
    },
    {
     "name": "stderr",
     "output_type": "stream",
     "text": [
      "Epoch 20/30 [Training]: 100%|██████████| 298/298 [01:08<00:00,  4.36it/s]\n",
      "Epoch 20/30 [Validation]: 100%|██████████| 124/124 [00:23<00:00,  5.34it/s]\n"
     ]
    },
    {
     "name": "stdout",
     "output_type": "stream",
     "text": [
      "Epoch 20/30 | Train Acc: 0.8586, Val Acc: 0.8981\n"
     ]
    },
    {
     "name": "stderr",
     "output_type": "stream",
     "text": [
      "2025/10/05 02:13:50 WARNING mlflow.models.model: `artifact_path` is deprecated. Please use `name` instead.\n",
      "2025/10/05 02:14:22 WARNING mlflow.utils.requirements_utils: Found torch version (2.5.1+cu121) contains a local version label (+cu121). MLflow logged a pip requirement for this package as 'torch==2.5.1' without the local version label to make it installable from PyPI. To specify pip requirements containing local version labels, please use `conda_env` or `pip_requirements`.\n",
      "2025/10/05 02:14:30 WARNING mlflow.utils.requirements_utils: Found torchvision version (0.20.1+cu121) contains a local version label (+cu121). MLflow logged a pip requirement for this package as 'torchvision==0.20.1' without the local version label to make it installable from PyPI. To specify pip requirements containing local version labels, please use `conda_env` or `pip_requirements`.\n",
      "2025/10/05 02:14:30 WARNING mlflow.models.model: Model logged without a signature and input example. Please set `input_example` parameter when logging the model to auto infer the model signature.\n"
     ]
    },
    {
     "name": "stdout",
     "output_type": "stream",
     "text": [
      "✔ New best model saved with val acc = 0.8981\n"
     ]
    },
    {
     "name": "stderr",
     "output_type": "stream",
     "text": [
      "Epoch 21/30 [Training]: 100%|██████████| 298/298 [01:10<00:00,  4.25it/s]\n",
      "Epoch 21/30 [Validation]: 100%|██████████| 124/124 [00:24<00:00,  5.08it/s]\n"
     ]
    },
    {
     "name": "stdout",
     "output_type": "stream",
     "text": [
      "Epoch 21/30 | Train Acc: 0.8554, Val Acc: 0.8895\n"
     ]
    },
    {
     "name": "stderr",
     "output_type": "stream",
     "text": [
      "Epoch 22/30 [Training]: 100%|██████████| 298/298 [01:10<00:00,  4.25it/s]\n",
      "Epoch 22/30 [Validation]: 100%|██████████| 124/124 [00:24<00:00,  5.05it/s]\n"
     ]
    },
    {
     "name": "stdout",
     "output_type": "stream",
     "text": [
      "Epoch 22/30 | Train Acc: 0.8707, Val Acc: 0.8768\n"
     ]
    },
    {
     "name": "stderr",
     "output_type": "stream",
     "text": [
      "Epoch 23/30 [Training]: 100%|██████████| 298/298 [01:09<00:00,  4.30it/s]\n",
      "Epoch 23/30 [Validation]: 100%|██████████| 124/124 [00:24<00:00,  5.02it/s]\n"
     ]
    },
    {
     "name": "stdout",
     "output_type": "stream",
     "text": [
      "Epoch 23/30 | Train Acc: 0.8726, Val Acc: 0.8779\n"
     ]
    },
    {
     "name": "stderr",
     "output_type": "stream",
     "text": [
      "Epoch 24/30 [Training]: 100%|██████████| 298/298 [01:09<00:00,  4.27it/s]\n",
      "Epoch 24/30 [Validation]: 100%|██████████| 124/124 [00:23<00:00,  5.25it/s]\n"
     ]
    },
    {
     "name": "stdout",
     "output_type": "stream",
     "text": [
      "Epoch 24/30 | Train Acc: 0.8680, Val Acc: 0.8809\n"
     ]
    },
    {
     "name": "stderr",
     "output_type": "stream",
     "text": [
      "Epoch 25/30 [Training]: 100%|██████████| 298/298 [01:09<00:00,  4.30it/s]\n",
      "Epoch 25/30 [Validation]: 100%|██████████| 124/124 [00:23<00:00,  5.22it/s]\n"
     ]
    },
    {
     "name": "stdout",
     "output_type": "stream",
     "text": [
      "Epoch 25/30 | Train Acc: 0.8800, Val Acc: 0.8794\n"
     ]
    },
    {
     "name": "stderr",
     "output_type": "stream",
     "text": [
      "Epoch 26/30 [Training]: 100%|██████████| 298/298 [01:07<00:00,  4.39it/s]\n",
      "Epoch 26/30 [Validation]: 100%|██████████| 124/124 [00:24<00:00,  5.15it/s]\n"
     ]
    },
    {
     "name": "stdout",
     "output_type": "stream",
     "text": [
      "Epoch 26/30 | Train Acc: 0.8865, Val Acc: 0.8925\n"
     ]
    },
    {
     "name": "stderr",
     "output_type": "stream",
     "text": [
      "Epoch 27/30 [Training]: 100%|██████████| 298/298 [01:07<00:00,  4.42it/s]\n",
      "Epoch 27/30 [Validation]: 100%|██████████| 124/124 [00:23<00:00,  5.32it/s]\n"
     ]
    },
    {
     "name": "stdout",
     "output_type": "stream",
     "text": [
      "Epoch 27/30 | Train Acc: 0.8749, Val Acc: 0.8865\n"
     ]
    },
    {
     "name": "stderr",
     "output_type": "stream",
     "text": [
      "Epoch 28/30 [Training]: 100%|██████████| 298/298 [01:06<00:00,  4.51it/s]\n",
      "Epoch 28/30 [Validation]: 100%|██████████| 124/124 [00:23<00:00,  5.22it/s]\n"
     ]
    },
    {
     "name": "stdout",
     "output_type": "stream",
     "text": [
      "Epoch 28/30 | Train Acc: 0.8869, Val Acc: 0.8839\n"
     ]
    },
    {
     "name": "stderr",
     "output_type": "stream",
     "text": [
      "Epoch 29/30 [Training]: 100%|██████████| 298/298 [01:08<00:00,  4.37it/s]\n",
      "Epoch 29/30 [Validation]: 100%|██████████| 124/124 [00:23<00:00,  5.30it/s]\n"
     ]
    },
    {
     "name": "stdout",
     "output_type": "stream",
     "text": [
      "Epoch 29/30 | Train Acc: 0.8798, Val Acc: 0.8920\n"
     ]
    },
    {
     "name": "stderr",
     "output_type": "stream",
     "text": [
      "Epoch 30/30 [Training]: 100%|██████████| 298/298 [01:05<00:00,  4.53it/s]\n",
      "Epoch 30/30 [Validation]: 100%|██████████| 124/124 [00:23<00:00,  5.34it/s]\n"
     ]
    },
    {
     "name": "stdout",
     "output_type": "stream",
     "text": [
      "Epoch 30/30 | Train Acc: 0.8819, Val Acc: 0.8971\n"
     ]
    },
    {
     "name": "stderr",
     "output_type": "stream",
     "text": [
      "c:\\Users\\abdal\\AppData\\Local\\Programs\\Python\\Python310\\lib\\site-packages\\tqdm\\auto.py:21: TqdmWarning: IProgress not found. Please update jupyter and ipywidgets. See https://ipywidgets.readthedocs.io/en/stable/user_install.html\n",
      "  from .autonotebook import tqdm as notebook_tqdm\n"
     ]
    },
    {
     "name": "stdout",
     "output_type": "stream",
     "text": [
      "\n",
      "Training finished. Best Validation Accuracy: 0.8981\n",
      "Loading best model from MLflow artifact: runs:/8750399e5eb14b2198de6782289a9cdc/best_model\n"
     ]
    },
    {
     "name": "stderr",
     "output_type": "stream",
     "text": [
      "Downloading artifacts:   0%|          | 0/1 [00:00<?, ?it/s]\n",
      "Downloading artifacts: 100%|██████████| 6/6 [00:00<00:00, 99.64it/s]  "
     ]
    },
    {
     "name": "stdout",
     "output_type": "stream",
     "text": [
      "--- Starting Final Evaluation on Test Set ---\n"
     ]
    },
    {
     "name": "stderr",
     "output_type": "stream",
     "text": [
      "\n"
     ]
    }
   ],
   "source": [
    "if __name__ == \"__main__\":\n",
    "    # Start MLflow tracking run\n",
    "    with mlflow.start_run() as run:\n",
    "        # Log all configuration parameters\n",
    "        mlflow.log_params(CONFIG)\n",
    "        \n",
    "        # Log class weights\n",
    "        for i, w in enumerate(class_weights):\n",
    "            mlflow.log_param(f\"class_weight_{classes[i]}\", w.item())\n",
    "\n",
    "        print(\"--- Starting Training and Validation ---\")\n",
    "        # Run training loop\n",
    "        best_val_acc = train_and_validate(\n",
    "            model, criterion, optimizer, train_loader, val_loader, \n",
    "            train_dataset, val_dataset, DEVICE, CONFIG[\"NUM_EPOCHS\"]\n",
    "        )\n",
    "        print(f\"\\nTraining finished. Best Validation Accuracy: {best_val_acc:.4f}\")\n",
    "\n",
    "        # ----------------- Load Best Model -----------------\n",
    "        run_id = run.info.run_id\n",
    "        best_model_uri = f\"runs:/{run_id}/best_model\"\n",
    "        print(f\"Loading best model from MLflow artifact: {best_model_uri}\")\n",
    "        best_model = mlflow.pytorch.load_model(best_model_uri).to(DEVICE)\n",
    "\n",
    "        print(\"--- Starting Final Evaluation on Test Set ---\")\n",
    "        # Run final evaluation\n",
    "        # test_model is defined in the next section for sequential presentation\n",
    "        # We will call it here after defining it.\n",
    "        # test_model(best_model, test_loader, classes, DEVICE) # Uncomment after defining test_model"
   ]
  },
  {
   "cell_type": "markdown",
   "id": "d6cf19d7",
   "metadata": {},
   "source": [
    "# 6. Final Evaluation and Analysis\n",
    "The last step is to evaluate the best-performing model on the independent test set and visualize the results."
   ]
  },
  {
   "cell_type": "code",
   "execution_count": 9,
   "id": "bd6de505",
   "metadata": {},
   "outputs": [
    {
     "name": "stderr",
     "output_type": "stream",
     "text": [
      "[Testing]: 100%|██████████| 66/66 [00:19<00:00,  3.37it/s]\n"
     ]
    },
    {
     "name": "stdout",
     "output_type": "stream",
     "text": [
      "\n",
      "Classification Report:\n",
      "               precision    recall  f1-score   support\n",
      "\n",
      "        angry     0.9518    1.0000    0.9753        79\n",
      "    disgusted     0.9831    0.9508    0.9667        61\n",
      "        happy     0.9859    0.9589    0.9722        73\n",
      "       normal     0.8444    0.9048    0.8736        84\n",
      "      relaxed     0.8883    0.8071    0.8457       197\n",
      "          sad     0.9529    0.9529    0.9529        85\n",
      "       scared     0.9508    0.8529    0.8992        68\n",
      "    surprised     0.8684    0.9296    0.8980        71\n",
      "uncomfortable     0.8947    0.9329    0.9134       328\n",
      "\n",
      "     accuracy                         0.9111      1046\n",
      "    macro avg     0.9245    0.9211    0.9219      1046\n",
      " weighted avg     0.9119    0.9111    0.9106      1046\n",
      "\n"
     ]
    },
    {
     "data": {
      "image/png": "[encoded data removed]",
      "text/plain": [
       "<Figure size 1000x800 with 2 Axes>"
      ]
     },
     "metadata": {},
     "output_type": "display_data"
    }
   ],
   "source": [
    "def test_model(model, test_loader, classes, device):\n",
    "    \"\"\"Evaluates the model on the test set and logs a Classification Report and Confusion Matrix.\"\"\"\n",
    "    model.eval() # Set model to evaluation mode\n",
    "    all_preds, all_labels = [], []\n",
    "\n",
    "    with torch.no_grad():\n",
    "        for inputs, labels in tqdm(test_loader, desc=\"[Testing]\"):\n",
    "            inputs, labels = inputs.to(device), labels.to(device)\n",
    "            outputs = model(inputs)\n",
    "            preds = outputs.argmax(1) # Get the predicted class\n",
    "            \n",
    "            all_preds.extend(preds.cpu().numpy())\n",
    "            all_labels.extend(labels.cpu().numpy())\n",
    "\n",
    "    # --- Classification Report ---\n",
    "    print(\"\\nClassification Report:\")\n",
    "    report = classification_report(all_labels, all_preds, target_names=classes, digits=4)\n",
    "    print(report)\n",
    "    \n",
    "    # Log the full report as an artifact in MLflow\n",
    "    mlflow.log_text(report, \"classification_report.txt\")\n",
    "\n",
    "    # --- Confusion Matrix Visualization ---\n",
    "    cm = confusion_matrix(all_labels, all_preds)\n",
    "    plt.figure(figsize=(10, 8))\n",
    "    # Use seaborn to create a clear heatmap of the confusion matrix\n",
    "    sns.heatmap(cm, annot=True, fmt=\"d\", xticklabels=classes, yticklabels=classes, cmap=\"Blues\")\n",
    "    plt.xlabel(\"Predicted Emotion\")\n",
    "    plt.ylabel(\"Actual Emotion\")\n",
    "    plt.title(\"Confusion Matrix for Cat Emotion Detection\")\n",
    "    \n",
    "    # Log the figure to MLflow\n",
    "    mlflow.log_figure(plt.gcf(), \"confusion_matrix.png\")\n",
    "    plt.show()\n",
    "\n",
    "# Re-run the final part of the main block to execute the testing\n",
    "if __name__ == \"__main__\":\n",
    "    # Assuming the previous MLflow run context is active or reloaded\n",
    "    \n",
    "    # --- Execute Test ---\n",
    "    # NOTE: In a real notebook, you would either keep the previous run active or load the run_id explicitly\n",
    "    # For a sequential execution, we call test_model here:\n",
    "    if 'best_model' in locals():\n",
    "        test_model(best_model, test_loader, classes, DEVICE)\n",
    "    else:\n",
    "        print(\"Please execute the previous training block first to load the best_model.\")"
   ]
  },
  {
   "cell_type": "markdown",
   "id": "963f7226",
   "metadata": {},
   "source": [
    "# 7. Conclusion\n",
    "This notebook demonstrates a robust, end-to-end solution for cat emotion detection, utilizing Transfer Learning with ResNet-50 and implementing essential MLOps practices through MLflow.\n",
    "\n",
    "-**Robust Preprocessing: Image augmentation was applied during training to improve model generalization.**\n",
    "\n",
    "-**Imbalance Handling: Class weights were calculated and used in the loss function to account for potential data imbalance.**\n",
    "\n",
    "-**Reproducibility: All parameters, metrics, and the final best model were tracked using MLflow, ensuring the experiment is fully reproducible.**\n",
    "\n",
    "-**The Classification Report and Confusion Matrix provide the final performance metrics, which can be viewed both below and within the associated MLflow run interface.**"
   ]
  }
 ],
 "metadata": {
  "kernelspec": {
   "display_name": "Python 3",
   "language": "python",
   "name": "python3"
  },
  "language_info": {
   "codemirror_mode": {
    "name": "ipython",
    "version": 3
   },
   "file_extension": ".py",
   "mimetype": "text/x-python",
   "name": "python",
   "nbconvert_exporter": "python",
   "pygments_lexer": "ipython3",
   "version": "3.10.0"
  }
 },
 "nbformat": 4,
 "nbformat_minor": 5
}
